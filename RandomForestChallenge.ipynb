{
 "cells": [
  {
   "cell_type": "code",
   "execution_count": 1,
   "metadata": {},
   "outputs": [],
   "source": [
    "import pandas as pd\n",
    "import numpy as np\n",
    "import matplotlib.pyplot as plt\n",
    "%matplotlib inline\n",
    "\n",
    "from sklearn import ensemble\n",
    "from sklearn.model_selection import cross_val_score\n",
    "import seaborn as sns"
   ]
  },
  {
   "cell_type": "code",
   "execution_count": 2,
   "metadata": {},
   "outputs": [],
   "source": [
    "# Libraries to import so I can find important features\n",
    "from sklearn.datasets import make_classification\n",
    "from sklearn.ensemble import ExtraTreesClassifier"
   ]
  },
  {
   "cell_type": "code",
   "execution_count": 3,
   "metadata": {},
   "outputs": [],
   "source": [
    "foc_original = pd.read_csv('flavors_of_cacao.csv',\n",
    "    skipinitialspace=True,\n",
    "    header=0\n",
    ")"
   ]
  },
  {
   "cell_type": "code",
   "execution_count": 4,
   "metadata": {},
   "outputs": [
    {
     "data": {
      "text/html": [
       "<div>\n",
       "<style scoped>\n",
       "    .dataframe tbody tr th:only-of-type {\n",
       "        vertical-align: middle;\n",
       "    }\n",
       "\n",
       "    .dataframe tbody tr th {\n",
       "        vertical-align: top;\n",
       "    }\n",
       "\n",
       "    .dataframe thead th {\n",
       "        text-align: right;\n",
       "    }\n",
       "</style>\n",
       "<table border=\"1\" class=\"dataframe\">\n",
       "  <thead>\n",
       "    <tr style=\"text-align: right;\">\n",
       "      <th></th>\n",
       "      <th>Company \n",
       "(Maker-if known)</th>\n",
       "      <th>Specific Bean Origin\n",
       "or Bar Name</th>\n",
       "      <th>REF</th>\n",
       "      <th>Review\n",
       "Date</th>\n",
       "      <th>Cocoa\n",
       "Percent</th>\n",
       "      <th>Company\n",
       "Location</th>\n",
       "      <th>Rating</th>\n",
       "      <th>Bean\n",
       "Type</th>\n",
       "      <th>Broad Bean\n",
       "Origin</th>\n",
       "    </tr>\n",
       "  </thead>\n",
       "  <tbody>\n",
       "    <tr>\n",
       "      <th>0</th>\n",
       "      <td>A. Morin</td>\n",
       "      <td>Agua Grande</td>\n",
       "      <td>1876</td>\n",
       "      <td>2016</td>\n",
       "      <td>63%</td>\n",
       "      <td>France</td>\n",
       "      <td>3.75</td>\n",
       "      <td></td>\n",
       "      <td>Sao Tome</td>\n",
       "    </tr>\n",
       "    <tr>\n",
       "      <th>1</th>\n",
       "      <td>A. Morin</td>\n",
       "      <td>Kpime</td>\n",
       "      <td>1676</td>\n",
       "      <td>2015</td>\n",
       "      <td>70%</td>\n",
       "      <td>France</td>\n",
       "      <td>2.75</td>\n",
       "      <td></td>\n",
       "      <td>Togo</td>\n",
       "    </tr>\n",
       "    <tr>\n",
       "      <th>2</th>\n",
       "      <td>A. Morin</td>\n",
       "      <td>Atsane</td>\n",
       "      <td>1676</td>\n",
       "      <td>2015</td>\n",
       "      <td>70%</td>\n",
       "      <td>France</td>\n",
       "      <td>3.00</td>\n",
       "      <td></td>\n",
       "      <td>Togo</td>\n",
       "    </tr>\n",
       "    <tr>\n",
       "      <th>3</th>\n",
       "      <td>A. Morin</td>\n",
       "      <td>Akata</td>\n",
       "      <td>1680</td>\n",
       "      <td>2015</td>\n",
       "      <td>70%</td>\n",
       "      <td>France</td>\n",
       "      <td>3.50</td>\n",
       "      <td></td>\n",
       "      <td>Togo</td>\n",
       "    </tr>\n",
       "    <tr>\n",
       "      <th>4</th>\n",
       "      <td>A. Morin</td>\n",
       "      <td>Quilla</td>\n",
       "      <td>1704</td>\n",
       "      <td>2015</td>\n",
       "      <td>70%</td>\n",
       "      <td>France</td>\n",
       "      <td>3.50</td>\n",
       "      <td></td>\n",
       "      <td>Peru</td>\n",
       "    </tr>\n",
       "  </tbody>\n",
       "</table>\n",
       "</div>"
      ],
      "text/plain": [
       "  Company \\n(Maker-if known) Specific Bean Origin\\nor Bar Name   REF  \\\n",
       "0                   A. Morin                       Agua Grande  1876   \n",
       "1                   A. Morin                             Kpime  1676   \n",
       "2                   A. Morin                            Atsane  1676   \n",
       "3                   A. Morin                             Akata  1680   \n",
       "4                   A. Morin                            Quilla  1704   \n",
       "\n",
       "   Review\\nDate Cocoa\\nPercent Company\\nLocation  Rating Bean\\nType  \\\n",
       "0          2016            63%            France    3.75              \n",
       "1          2015            70%            France    2.75              \n",
       "2          2015            70%            France    3.00              \n",
       "3          2015            70%            France    3.50              \n",
       "4          2015            70%            France    3.50              \n",
       "\n",
       "  Broad Bean\\nOrigin  \n",
       "0           Sao Tome  \n",
       "1               Togo  \n",
       "2               Togo  \n",
       "3               Togo  \n",
       "4               Peru  "
      ]
     },
     "execution_count": 4,
     "metadata": {},
     "output_type": "execute_result"
    }
   ],
   "source": [
    "foc_original.head()"
   ]
  },
  {
   "cell_type": "code",
   "execution_count": 5,
   "metadata": {},
   "outputs": [],
   "source": [
    "# Rename column names\n",
    "# df.rename(index=str, columns={\"A\": \"a\", \"C\": \"c\"})\n",
    "foc_v1 = foc_original.rename(index=str, columns={'Company \\n(Maker-if known)': 'company',\n",
    "                            'Specific Bean Origin\\nor Bar Name': 'specific_bean_origin', 'Review\\nDate':'review_date',\n",
    "                            'Cocoa\\nPercent':'cocoa_percent','Company\\nLocation':'company_loc','Rating':'rating',\n",
    "                            'Bean\\nType':'bean_type','Broad Bean\\nOrigin':'broad_bean_origin'\n",
    "                            })"
   ]
  },
  {
   "cell_type": "code",
   "execution_count": 6,
   "metadata": {},
   "outputs": [],
   "source": [
    "# Change everything to numeric now\n",
    "foc_v1['cocoa_percent'] = pd.to_numeric(foc_v1['cocoa_percent'].str.strip('%'), errors='coerce')"
   ]
  },
  {
   "cell_type": "code",
   "execution_count": 7,
   "metadata": {},
   "outputs": [],
   "source": [
    "# Run the RF model again, it should work\n",
    "from sklearn import ensemble\n",
    "from sklearn.model_selection import cross_val_score\n",
    "\n",
    "# The below is OK if Rating is a float"
   ]
  },
  {
   "cell_type": "code",
   "execution_count": 8,
   "metadata": {},
   "outputs": [],
   "source": [
    "# This is the model we'll be using.\n",
    "from sklearn import tree\n",
    "\n",
    "# A convenience for displaying visualizations.\n",
    "from IPython.display import Image\n",
    "\n",
    "# Packages for rendering our tree.\n",
    "import pydotplus\n",
    "import graphviz"
   ]
  },
  {
   "cell_type": "markdown",
   "metadata": {},
   "source": [
    "# Try the Regressor First"
   ]
  },
  {
   "cell_type": "code",
   "execution_count": 9,
   "metadata": {},
   "outputs": [
    {
     "data": {
      "text/plain": [
       "RandomForestRegressor(bootstrap=True, criterion='mse', max_depth=10,\n",
       "           max_features='sqrt', max_leaf_nodes=None,\n",
       "           min_impurity_decrease=0.0, min_impurity_split=None,\n",
       "           min_samples_leaf=1, min_samples_split=0.01,\n",
       "           min_weight_fraction_leaf=0.0, n_estimators=50, n_jobs=1,\n",
       "           oob_score=False, random_state=None, verbose=0, warm_start=False)"
      ]
     },
     "execution_count": 9,
     "metadata": {},
     "output_type": "execute_result"
    }
   ],
   "source": [
    "rfg = ensemble.RandomForestRegressor(max_depth = 10, n_estimators = 50, max_features = 'sqrt',\n",
    "                                    min_samples_split=.01) #if a float, auto converts to %\n",
    "# a list with two elements, rating and bean_origin\n",
    "X = foc_v1.drop(['rating','specific_bean_origin'],1)  # drop rating from X\n",
    "Y = foc_v1['rating']\n",
    "X = pd.get_dummies(X) \n",
    "\n",
    "# Put a fit in here\n",
    "rfg.fit(X,Y) # drop rating from X"
   ]
  },
  {
   "cell_type": "code",
   "execution_count": 10,
   "metadata": {},
   "outputs": [
    {
     "name": "stdout",
     "output_type": "stream",
     "text": [
      "0.16097021148234336\n"
     ]
    },
    {
     "data": {
      "text/plain": [
       "array([0.04275149, 0.07099904, 0.04108923, 0.02643539, 0.03661763])"
      ]
     },
     "execution_count": 10,
     "metadata": {},
     "output_type": "execute_result"
    }
   ],
   "source": [
    "print(rfg.score(X,Y))\n",
    "cross_val_score(rfg, X, Y, cv=5)"
   ]
  },
  {
   "cell_type": "markdown",
   "metadata": {},
   "source": [
    "# These values are terrible!"
   ]
  },
  {
   "cell_type": "markdown",
   "metadata": {},
   "source": [
    "# Try Classifier next..."
   ]
  },
  {
   "cell_type": "code",
   "execution_count": 11,
   "metadata": {},
   "outputs": [
    {
     "name": "stdout",
     "output_type": "stream",
     "text": [
      "0.9442896935933147\n"
     ]
    },
    {
     "data": {
      "text/plain": [
       "array([0.94428969, 0.94428969, 0.94428969, 0.94428969, 0.94428969])"
      ]
     },
     "execution_count": 11,
     "metadata": {},
     "output_type": "execute_result"
    }
   ],
   "source": [
    "rfc = ensemble.RandomForestClassifier(max_depth = 10, n_estimators = 50, max_features = 'sqrt',\n",
    "                                    min_samples_split=.01) #if a float, auto converts to %\n",
    "# a list with two elements, rating and bean_origin\n",
    "X = foc_v1.drop(['rating','specific_bean_origin'],1)  # drop rating from X\n",
    "Y = foc_v1['rating']\n",
    "# convert Y to strings\n",
    "#Y = Y.astype(str)\n",
    "\n",
    "# Try a Boolean Y value\n",
    "Y = (foc_v1['rating'] >= 4)\n",
    "X = pd.get_dummies(X) \n",
    "\n",
    "# Put a fit in here\n",
    "rfc.fit(X,Y) # drop rating from X\n",
    "print(rfc.score(X,Y))\n",
    "cross_val_score(rfc, X, Y, cv=5)"
   ]
  },
  {
   "cell_type": "code",
   "execution_count": 12,
   "metadata": {
    "collapsed": true
   },
   "outputs": [
    {
     "data": {
      "text/plain": [
       "3.50    392\n",
       "3.00    341\n",
       "3.25    303\n",
       "2.75    259\n",
       "3.75    210\n",
       "2.50    127\n",
       "4.00     98\n",
       "2.00     32\n",
       "2.25     14\n",
       "1.50     10\n",
       "1.00      4\n",
       "1.75      3\n",
       "5.00      2\n",
       "Name: rating, dtype: int64"
      ]
     },
     "execution_count": 12,
     "metadata": {},
     "output_type": "execute_result"
    }
   ],
   "source": [
    "# A heck of a lot better! Because the Regressor ratings look like this:\n",
    "foc_v1['rating'].value_counts()"
   ]
  },
  {
   "cell_type": "code",
   "execution_count": 13,
   "metadata": {},
   "outputs": [
    {
     "name": "stdout",
     "output_type": "stream",
     "text": [
      "0.9983286908077994\n"
     ]
    },
    {
     "data": {
      "text/plain": [
       "array([0.8356546 , 0.92479109, 0.91922006, 0.92200557, 0.92479109])"
      ]
     },
     "execution_count": 13,
     "metadata": {},
     "output_type": "execute_result"
    }
   ],
   "source": [
    "# Try to make the best decision tree and the most simple random forest (max_depth = 2, max_features = 1)\n",
    "# Initialize and train our tree.\n",
    "decision_tree = tree.DecisionTreeClassifier(\n",
    "    criterion='gini',\n",
    "    max_features='auto',\n",
    "    max_depth=None,\n",
    "    random_state = None\n",
    ")\n",
    "decision_tree.fit(X, Y)\n",
    "print(decision_tree.score(X,Y))\n",
    "cross_val_score(decision_tree, X, Y, cv=5)"
   ]
  },
  {
   "cell_type": "code",
   "execution_count": 14,
   "metadata": {
    "collapsed": true
   },
   "outputs": [
    {
     "name": "stdout",
     "output_type": "stream",
     "text": [
      "                                                    importance\n",
      "cocoa_percent                                         0.128389\n",
      "REF                                                   0.056485\n",
      "Company \\n(Maker-if known)_Soma                       0.035773\n",
      "Company \\n(Maker-if known)_Cote d' Or (Kraft)         0.029431\n",
      "review_date                                           0.029392\n",
      "Company \\n(Maker-if known)_Machu Picchu Trading...    0.028857\n",
      "Company \\n(Maker-if known)_Amedei                     0.028378\n",
      "bean_type_                                            0.027732\n",
      "Company \\n(Maker-if known)_Idilio (Felchlin)          0.023770\n",
      "broad_bean_origin_                                    0.022689\n",
      "Company \\n(Maker-if known)_Neuhaus (Callebaut)        0.022342\n",
      "Company \\n(Maker-if known)_Callebaut                  0.015641\n",
      "company_loc_Italy                                     0.015215\n",
      "company_loc_Belgium                                   0.013089\n",
      "company_loc_U.K.                                      0.013078\n",
      "Company \\n(Maker-if known)_Arete                      0.012315\n",
      "Company \\n(Maker-if known)_TCHO                       0.011926\n",
      "company_loc_U.S.A.                                    0.011555\n",
      "Company \\n(Maker-if known)_Bonnat                     0.011042\n",
      "company_loc_Canada                                    0.009617\n",
      "Company \\n(Maker-if known)_Bouga Cacao (Tulicorp)     0.009450\n",
      "broad_bean_origin_Puerto Rico                         0.009306\n",
      "Company \\n(Maker-if known)_Pierre Marcolini           0.009194\n",
      "broad_bean_origin_Madagascar                          0.008748\n",
      "company_loc_Ecuador                                   0.008601\n",
      "Company \\n(Maker-if known)_Patric                     0.008285\n",
      "bean_type_Forastero (Arriba)                          0.008033\n",
      "Company \\n(Maker-if known)_Shark's                    0.007896\n",
      "Company \\n(Maker-if known)_Cacao Atlanta              0.007720\n",
      "Company \\n(Maker-if known)_Ethel's Artisan (Mars)     0.007501\n",
      "...                                                        ...\n",
      "Company \\n(Maker-if known)_Green Bean to Bar          0.000000\n",
      "Company \\n(Maker-if known)_Raw Cocoa                  0.000000\n",
      "Company \\n(Maker-if known)_Raoul Boulanger            0.000000\n",
      "Company \\n(Maker-if known)_Rancho San Jacinto         0.000000\n",
      "Company \\n(Maker-if known)_Rain Republic              0.000000\n",
      "Company \\n(Maker-if known)_Raaka                      0.000000\n",
      "Company \\n(Maker-if known)_Quetzalli (Wolter)         0.000000\n",
      "Company \\n(Maker-if known)_Captain Pembleton          0.000000\n",
      "Company \\n(Maker-if known)_Shattell                   0.000000\n",
      "Company \\n(Maker-if known)_Forever Cacao              0.000000\n",
      "Company \\n(Maker-if known)_Cloudforest                0.000000\n",
      "Company \\n(Maker-if known)_Svenska Kakaobolaget       0.000000\n",
      "Company \\n(Maker-if known)_Suruca Chocolate           0.000000\n",
      "Company \\n(Maker-if known)_Forteza (Cortes)           0.000000\n",
      "Company \\n(Maker-if known)_Sublime Origins            0.000000\n",
      "Company \\n(Maker-if known)_Stone Grindz               0.000000\n",
      "Company \\n(Maker-if known)_Stella (aka Bernrain)      0.000000\n",
      "Company \\n(Maker-if known)_Starchild                  0.000000\n",
      "Company \\n(Maker-if known)_Cacao de Origin            0.000000\n",
      "Company \\n(Maker-if known)_Fossa                      0.000000\n",
      "Company \\n(Maker-if known)_Sibu                       0.000000\n",
      "Company \\n(Maker-if known)_Spagnvola                  0.000000\n",
      "Company \\n(Maker-if known)_Somerville                 0.000000\n",
      "Company \\n(Maker-if known)_Franceschi                 0.000000\n",
      "Company \\n(Maker-if known)_Solomons Gold              0.000000\n",
      "Company \\n(Maker-if known)_Frederic Blondeel          0.000000\n",
      "Company \\n(Maker-if known)_Sol Cacao                  0.000000\n",
      "Company \\n(Maker-if known)_Cacaosuyo (Theobroma...    0.000000\n",
      "Company \\n(Maker-if known)_Sibu Sura                  0.000000\n",
      "Company \\n(Maker-if known)_Sprungli (Felchlin)        0.000000\n",
      "\n",
      "[620 rows x 1 columns]\n"
     ]
    }
   ],
   "source": [
    "feature_importances = pd.DataFrame(rfg.feature_importances_,\n",
    "                                   index = X.columns,\n",
    "                                    columns=['importance']).sort_values('importance', ascending=False)\n",
    "\n",
    "print(feature_importances)"
   ]
  },
  {
   "cell_type": "code",
   "execution_count": null,
   "metadata": {},
   "outputs": [],
   "source": []
  }
 ],
 "metadata": {
  "kernelspec": {
   "display_name": "Python 3",
   "language": "python",
   "name": "python3"
  },
  "language_info": {
   "codemirror_mode": {
    "name": "ipython",
    "version": 3
   },
   "file_extension": ".py",
   "mimetype": "text/x-python",
   "name": "python",
   "nbconvert_exporter": "python",
   "pygments_lexer": "ipython3",
   "version": "3.6.4"
  }
 },
 "nbformat": 4,
 "nbformat_minor": 2
}
